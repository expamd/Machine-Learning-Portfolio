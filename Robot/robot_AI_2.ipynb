{
 "cells": [
  {
   "cell_type": "raw",
   "metadata": {},
   "source": [
    "Jest to część projektu związanego z robotem. Ten plik odpowiada za sieć konwolucyjną, która jest podstawą do tego aby robot mógł skutecznie nawigować. Zbiór danych został zebrany ręcznie skryptem ok.500 zdjęć."
   ]
  },
  {
   "cell_type": "code",
   "execution_count": 1,
   "metadata": {
    "id": "usMREwl2Rqre"
   },
   "outputs": [],
   "source": [
    "import os\n",
    "import pandas as pd\n",
    "import numpy as np\n",
    "import tensorflow as tf\n",
    "from tensorflow.keras.models import Model,load_model\n",
    "from tensorflow.keras.layers import Input,Dense,Conv2D,BatchNormalization, Flatten,MaxPooling2D, Concatenate,LeakyReLU,PReLU,Dropout,GaussianNoise\n",
    "from tensorflow.keras.regularizers import l2\n",
    "from tensorflow.keras.optimizers import Adam,SGD,RMSprop\n",
    "import cv2\n",
    "import random\n",
    "import PIL \n",
    "from skimage.io import imsave\n",
    "import matplotlib.pyplot as plt\n"
   ]
  },
  {
   "cell_type": "code",
   "execution_count": 2,
   "metadata": {
    "colab": {
     "base_uri": "https://localhost:8080/"
    },
    "id": "m7HJa1fiVIlr",
    "outputId": "d16a6e62-d664-431d-fa70-8e7ab6a59cfc"
   },
   "outputs": [],
   "source": [
    "#Inicializacja akceleratora GPU\n",
    "gpus = tf.config.experimental.list_physical_devices('GPU')\n",
    "for gpu in gpus:\n",
    "    tf.config.experimental.set_memory_growth(gpu, True)"
   ]
  },
  {
   "cell_type": "code",
   "execution_count": null,
   "metadata": {
    "id": "gxO8YyfKVItb"
   },
   "outputs": [],
   "source": [
    "orig_imgs='C:/Users/komej/dataset2/images/'\n",
    "mask_imgs='C:/Users/komej/dataset2/mask/'\n",
    "labels_path='C:/Users/komej/dataset2/labels2.csv'"
   ]
  },
  {
   "cell_type": "code",
   "execution_count": null,
   "metadata": {
    "id": "_DDDi6ogVIwI"
   },
   "outputs": [],
   "source": [
    "#Wczytanie pliku csv z nazwami plików i etykietami do nich\n",
    "df=pd.read_csv(labels_path)"
   ]
  },
  {
   "cell_type": "code",
   "execution_count": null,
   "metadata": {
    "colab": {
     "base_uri": "https://localhost:8080/",
     "height": 204
    },
    "id": "OWd6yoA-VIys",
    "outputId": "c5b0aa9c-dd8d-4eae-a0f8-32c57ed64dd3"
   },
   "outputs": [
    {
     "data": {
      "text/html": [
       "<div>\n",
       "<style scoped>\n",
       "    .dataframe tbody tr th:only-of-type {\n",
       "        vertical-align: middle;\n",
       "    }\n",
       "\n",
       "    .dataframe tbody tr th {\n",
       "        vertical-align: top;\n",
       "    }\n",
       "\n",
       "    .dataframe thead th {\n",
       "        text-align: right;\n",
       "    }\n",
       "</style>\n",
       "<table border=\"1\" class=\"dataframe\">\n",
       "  <thead>\n",
       "    <tr style=\"text-align: right;\">\n",
       "      <th></th>\n",
       "      <th>orginal_images</th>\n",
       "      <th>mask_images</th>\n",
       "      <th>object</th>\n",
       "    </tr>\n",
       "  </thead>\n",
       "  <tbody>\n",
       "    <tr>\n",
       "      <th>0</th>\n",
       "      <td>1.jpg</td>\n",
       "      <td>mask_1.jpg</td>\n",
       "      <td>1</td>\n",
       "    </tr>\n",
       "    <tr>\n",
       "      <th>1</th>\n",
       "      <td>2.jpg</td>\n",
       "      <td>mask_2.jpg</td>\n",
       "      <td>1</td>\n",
       "    </tr>\n",
       "    <tr>\n",
       "      <th>2</th>\n",
       "      <td>3.jpg</td>\n",
       "      <td>mask_3.jpg</td>\n",
       "      <td>1</td>\n",
       "    </tr>\n",
       "    <tr>\n",
       "      <th>3</th>\n",
       "      <td>4.jpg</td>\n",
       "      <td>mask_4.jpg</td>\n",
       "      <td>1</td>\n",
       "    </tr>\n",
       "    <tr>\n",
       "      <th>4</th>\n",
       "      <td>5.jpg</td>\n",
       "      <td>mask_5.jpg</td>\n",
       "      <td>1</td>\n",
       "    </tr>\n",
       "  </tbody>\n",
       "</table>\n",
       "</div>"
      ],
      "text/plain": [
       "  orginal_images mask_images  object\n",
       "0          1.jpg  mask_1.jpg       1\n",
       "1          2.jpg  mask_2.jpg       1\n",
       "2          3.jpg  mask_3.jpg       1\n",
       "3          4.jpg  mask_4.jpg       1\n",
       "4          5.jpg  mask_5.jpg       1"
      ]
     },
     "execution_count": 7,
     "metadata": {},
     "output_type": "execute_result"
    }
   ],
   "source": [
    "df.head()"
   ]
  },
  {
   "cell_type": "code",
   "execution_count": null,
   "metadata": {
    "id": "f6MGDbZWVI1S"
   },
   "outputs": [],
   "source": [
    "df.dtypes"
   ]
  },
  {
   "cell_type": "raw",
   "metadata": {},
   "source": [
    "Prosta sieć konwolucyjna z dwoma wejściami na zdjęcie RGB i czarnobiałą maske HSV od zdjęcia."
   ]
  },
  {
   "cell_type": "code",
   "execution_count": 7,
   "metadata": {
    "id": "skF8gmfYhQSp"
   },
   "outputs": [],
   "source": [
    "def build_model():\n",
    "    input_img=Input(shape=(160,220,3),name='RGB_img')\n",
    "    mask_input=Input(shape=(160,220,3),name='Mask_img')\n",
    "\n",
    "    conv1=Conv2D(32,kernel_size=(3,3),activation='relu',strides=1,padding='same',kernel_initializer='he_uniform')(input_img)\n",
    "    conv_m=Conv2D(32,kernel_size=(3,3),activation='relu',strides=1,padding='same',kernel_initializer='he_uniform')(mask_input)\n",
    "    con=Concatenate()([conv1,conv_m])\n",
    "    conv_a=Conv2D(64,kernel_size=(3,3),activation='relu',strides=1,padding='same',kernel_initializer='he_uniform')(con)\n",
    "    h=MaxPooling2D((2,2))(conv_a)\n",
    "    conv2=Conv2D(64,kernel_size=(3,3),activation='relu',strides=1,padding='same',kernel_initializer='he_uniform')(h)\n",
    "    h2=MaxPooling2D((2,2))(conv2)\n",
    "    conv3=Conv2D(64,kernel_size=(3,3),activation='relu',strides=1,padding='same',kernel_initializer='he_uniform')(h2)\n",
    "    h3=MaxPooling2D((2,2))(conv3)\n",
    "    conv4=Conv2D(64,kernel_size=(3,3),activation='relu',strides=1,padding='same',kernel_initializer='he_uniform')(h3)\n",
    "    h4=MaxPooling2D((2,2))(conv4)\n",
    "    conv5=Conv2D(128,kernel_size=(3,3),activation='relu',strides=1,padding='same',kernel_initializer='he_uniform')(h4)\n",
    "    h5=MaxPooling2D((2,2))(conv5)\n",
    "    conv6=Conv2D(128,kernel_size=(3,3),activation='relu',strides=1,padding='same',kernel_initializer='he_uniform')(h5)\n",
    "    fl=Flatten()(conv6)\n",
    "    d1=Dense(128,activation='relu')(fl)\n",
    "    drp1=Dropout((0.1))(d1)\n",
    "    d2=Dense(64,activation='relu')(drp1)\n",
    "    drp2=Dropout((0.1))(d2)\n",
    "    d3=Dense(32,activation=LeakyReLU())(drp2)\n",
    "    out=Dense(1,activation='sigmoid')(d3)\n",
    "\n",
    "    model=Model([input_img,mask_input],out)\n",
    "    return model\n"
   ]
  },
  {
   "cell_type": "code",
   "execution_count": 8,
   "metadata": {
    "id": "gbSj4isIjhty"
   },
   "outputs": [],
   "source": [
    "model=build_model()"
   ]
  },
  {
   "cell_type": "code",
   "execution_count": 9,
   "metadata": {
    "colab": {
     "base_uri": "https://localhost:8080/"
    },
    "id": "85f0MA1EVI6i",
    "outputId": "c9fde0c0-21a0-43f1-cb65-82da870533cc",
    "scrolled": true
   },
   "outputs": [
    {
     "name": "stdout",
     "output_type": "stream",
     "text": [
      "Model: \"model_1\"\n",
      "__________________________________________________________________________________________________\n",
      " Layer (type)                   Output Shape         Param #     Connected to                     \n",
      "==================================================================================================\n",
      " RGB_img (InputLayer)           [(None, 160, 220, 3  0           []                               \n",
      "                                )]                                                                \n",
      "                                                                                                  \n",
      " Mask_img (InputLayer)          [(None, 160, 220, 3  0           []                               \n",
      "                                )]                                                                \n",
      "                                                                                                  \n",
      " conv2d_8 (Conv2D)              (None, 160, 220, 32  896         ['RGB_img[0][0]']                \n",
      "                                )                                                                 \n",
      "                                                                                                  \n",
      " conv2d_9 (Conv2D)              (None, 160, 220, 32  896         ['Mask_img[0][0]']               \n",
      "                                )                                                                 \n",
      "                                                                                                  \n",
      " concatenate_1 (Concatenate)    (None, 160, 220, 64  0           ['conv2d_8[0][0]',               \n",
      "                                )                                 'conv2d_9[0][0]']               \n",
      "                                                                                                  \n",
      " conv2d_10 (Conv2D)             (None, 160, 220, 64  36928       ['concatenate_1[0][0]']          \n",
      "                                )                                                                 \n",
      "                                                                                                  \n",
      " max_pooling2d_5 (MaxPooling2D)  (None, 80, 110, 64)  0          ['conv2d_10[0][0]']              \n",
      "                                                                                                  \n",
      " conv2d_11 (Conv2D)             (None, 80, 110, 64)  36928       ['max_pooling2d_5[0][0]']        \n",
      "                                                                                                  \n",
      " max_pooling2d_6 (MaxPooling2D)  (None, 40, 55, 64)  0           ['conv2d_11[0][0]']              \n",
      "                                                                                                  \n",
      " conv2d_12 (Conv2D)             (None, 40, 55, 64)   36928       ['max_pooling2d_6[0][0]']        \n",
      "                                                                                                  \n",
      " max_pooling2d_7 (MaxPooling2D)  (None, 20, 27, 64)  0           ['conv2d_12[0][0]']              \n",
      "                                                                                                  \n",
      " conv2d_13 (Conv2D)             (None, 20, 27, 64)   36928       ['max_pooling2d_7[0][0]']        \n",
      "                                                                                                  \n",
      " max_pooling2d_8 (MaxPooling2D)  (None, 10, 13, 64)  0           ['conv2d_13[0][0]']              \n",
      "                                                                                                  \n",
      " conv2d_14 (Conv2D)             (None, 10, 13, 128)  73856       ['max_pooling2d_8[0][0]']        \n",
      "                                                                                                  \n",
      " max_pooling2d_9 (MaxPooling2D)  (None, 5, 6, 128)   0           ['conv2d_14[0][0]']              \n",
      "                                                                                                  \n",
      " conv2d_15 (Conv2D)             (None, 5, 6, 128)    147584      ['max_pooling2d_9[0][0]']        \n",
      "                                                                                                  \n",
      " flatten_1 (Flatten)            (None, 3840)         0           ['conv2d_15[0][0]']              \n",
      "                                                                                                  \n",
      " dense_4 (Dense)                (None, 128)          491648      ['flatten_1[0][0]']              \n",
      "                                                                                                  \n",
      " dropout_2 (Dropout)            (None, 128)          0           ['dense_4[0][0]']                \n",
      "                                                                                                  \n",
      " dense_5 (Dense)                (None, 64)           8256        ['dropout_2[0][0]']              \n",
      "                                                                                                  \n",
      " dropout_3 (Dropout)            (None, 64)           0           ['dense_5[0][0]']                \n",
      "                                                                                                  \n",
      " dense_6 (Dense)                (None, 32)           2080        ['dropout_3[0][0]']              \n",
      "                                                                                                  \n",
      " dense_7 (Dense)                (None, 1)            33          ['dense_6[0][0]']                \n",
      "                                                                                                  \n",
      "==================================================================================================\n",
      "Total params: 872,961\n",
      "Trainable params: 872,961\n",
      "Non-trainable params: 0\n",
      "__________________________________________________________________________________________________\n"
     ]
    }
   ],
   "source": [
    "model.summary()"
   ]
  },
  {
   "cell_type": "code",
   "execution_count": null,
   "metadata": {
    "id": "bbbPZPxpnk8m"
   },
   "outputs": [],
   "source": [
    "model.compile(loss='binary_crossentropy',optimizer=Adam(learning_rate=0.0001),metrics=['mse','accuracy'],run_eagerly=False)"
   ]
  },
  {
   "cell_type": "code",
   "execution_count": null,
   "metadata": {
    "id": "e9oBAckUVI9Y"
   },
   "outputs": [],
   "source": [
    "tf.keras.utils.plot_model(model,to_file='C:/Users/komej/dataset2/model.png',show_shapes=True,show_dtype=True)"
   ]
  },
  {
   "cell_type": "code",
   "execution_count": null,
   "metadata": {
    "id": "-NWKq3Cbhy6D"
   },
   "outputs": [],
   "source": [
    "#Funkcja oparta na generatorze, której zadaniem jest wczytanie do pamięci zadaną ilość danych(zdjęć) i etykiet opisujące je.\n",
    "def batch_gen(batch_size,input_path,label_csv):\n",
    "    while(1):\n",
    "        images=os.listdir(input_path)\n",
    "        img_batches=np.random.choice(images,size=batch_size)\n",
    "        all=img_batches[:]\n",
    "        df1=pd.read_csv(label_csv)\n",
    "        del df1['mask_images']\n",
    "        df1.set_index('orginal_images',inplace=True,drop=True)\n",
    "        df1=df1.loc[all]\n",
    "        y=df1['object'].values\n",
    "        y=y.astype('float32')\n",
    "        #print(y)\n",
    "        org_images=[]\n",
    "        mask_images=[]\n",
    "        for img in img_batches:\n",
    "            o=cv2.imread(input_path+img)\n",
    "            o=cv2.resize(o,(220,160),interpolation=cv.INTER_AREA)\n",
    "            m=cv2.imread(mask_imgs+'mask_'+img)\n",
    "            m=cv2.resize(m,(220,160),interpolation=cv.INTER_AREA)\n",
    "            org_images.append(o)\n",
    "            mask_images.append(m)\n",
    "        org_images=np.array(org_images)/255\n",
    "        mask_images=np.array(mask_images)/255\n",
    "        org_images=org_images.astype('float32')\n",
    "        mask_images=mask_images.astype('float32')\n",
    "\n",
    "        yield(org_images,mask_images,y)"
   ]
  },
  {
   "cell_type": "code",
   "execution_count": null,
   "metadata": {
    "id": "4dZuzGPXfWBl"
   },
   "outputs": [],
   "source": [
    "plt.imshow(o_img[0])"
   ]
  },
  {
   "cell_type": "code",
   "execution_count": null,
   "metadata": {
    "colab": {
     "base_uri": "https://localhost:8080/",
     "height": 1000
    },
    "id": "gfQk2Cwhhy9V",
    "outputId": "e753e9b6-bb9b-444b-d050-d03be8ebbdfd"
   },
   "outputs": [
    {
     "name": "stdout",
     "output_type": "stream",
     "text": [
      "Epoch: 1\n",
      "loss: Crossentropy_loss: 0.01169133372604847 MSE: 0.0005852088797837496 Accuracy: 1.0\n",
      "Epoch: 2\n",
      "loss: Crossentropy_loss: 0.00899967085570097 MSE: 0.00032596231903880835 Accuracy: 1.0\n",
      "Epoch: 3\n",
      "loss: Crossentropy_loss: 0.011036420240998268 MSE: 0.0004885303787887096 Accuracy: 1.0\n",
      "Epoch: 4\n",
      "loss: Crossentropy_loss: 0.009813741780817509 MSE: 0.0005738112377002835 Accuracy: 1.0\n",
      "Epoch: 5\n",
      "loss: Crossentropy_loss: 0.02430630475282669 MSE: 0.0018393747741356492 Accuracy: 1.0\n",
      "Epoch: 6\n",
      "loss: Crossentropy_loss: 0.024975938722491264 MSE: 0.003705768147483468 Accuracy: 1.0\n",
      "Epoch: 7\n",
      "loss: Crossentropy_loss: 0.007745184935629368 MSE: 0.0004733928362838924 Accuracy: 1.0\n",
      "Epoch: 8\n",
      "loss: Crossentropy_loss: 0.004603298380970955 MSE: 0.00014230779197532684 Accuracy: 1.0\n",
      "Epoch: 9\n",
      "loss: Crossentropy_loss: 0.005188005045056343 MSE: 0.00014393214951269329 Accuracy: 1.0\n",
      "Epoch: 10\n",
      "loss: Crossentropy_loss: 0.006478115916252136 MSE: 0.00018626506789587438 Accuracy: 1.0\n",
      "Epoch: 11\n",
      "loss: Crossentropy_loss: 0.004615213721990585 MSE: 0.00013395158748608083 Accuracy: 1.0\n",
      "Epoch: 12\n",
      "loss: Crossentropy_loss: 0.008724253624677658 MSE: 0.0005192248499952257 Accuracy: 1.0\n",
      "Epoch: 13\n",
      "loss: Crossentropy_loss: 0.02073155716061592 MSE: 0.002112514106556773 Accuracy: 1.0\n",
      "Epoch: 14\n",
      "loss: Crossentropy_loss: 0.0086702611297369 MSE: 0.0005701776826754212 Accuracy: 1.0\n",
      "Epoch: 15\n",
      "loss: Crossentropy_loss: 0.010387720540165901 MSE: 0.0007838635356165469 Accuracy: 1.0\n",
      "Epoch: 16\n",
      "loss: Crossentropy_loss: 0.00970302615314722 MSE: 0.0007009823457337916 Accuracy: 1.0\n",
      "Epoch: 17\n",
      "loss: Crossentropy_loss: 0.006771111860871315 MSE: 0.00021937870769761503 Accuracy: 1.0\n",
      "Epoch: 18\n",
      "loss: Crossentropy_loss: 0.039537444710731506 MSE: 0.013264880515635014 Accuracy: 0.96875\n",
      "Epoch: 19\n",
      "loss: Crossentropy_loss: 0.03143525868654251 MSE: 0.0037469835951924324 Accuracy: 1.0\n",
      "Epoch: 20\n",
      "loss: Crossentropy_loss: 0.008093073964118958 MSE: 0.0002699934411793947 Accuracy: 1.0\n",
      "Epoch: 21\n",
      "loss: Crossentropy_loss: 0.012183597311377525 MSE: 0.0011333016445860267 Accuracy: 1.0\n",
      "Epoch: 22\n",
      "loss: Crossentropy_loss: 0.008338465355336666 MSE: 0.0004660637932829559 Accuracy: 1.0\n",
      "Epoch: 23\n",
      "loss: Crossentropy_loss: 0.004439622163772583 MSE: 0.00010637205559760332 Accuracy: 1.0\n",
      "Epoch: 24\n",
      "loss: Crossentropy_loss: 0.010560001246631145 MSE: 0.0007607091683894396 Accuracy: 1.0\n",
      "Epoch: 25\n",
      "loss: Crossentropy_loss: 0.01940194144845009 MSE: 0.0015839067054912448 Accuracy: 1.0\n",
      "Epoch: 26\n",
      "loss: Crossentropy_loss: 0.010868789628148079 MSE: 0.00045121810398995876 Accuracy: 1.0\n",
      "Epoch: 27\n",
      "loss: Crossentropy_loss: 0.0064890338107943535 MSE: 0.0001807060616556555 Accuracy: 1.0\n",
      "Epoch: 28\n",
      "loss: Crossentropy_loss: 0.015258357860147953 MSE: 0.0032254504039883614 Accuracy: 1.0\n",
      "Epoch: 29\n",
      "loss: Crossentropy_loss: 0.012457077391445637 MSE: 0.001211421680636704 Accuracy: 1.0\n",
      "Epoch: 30\n",
      "loss: Crossentropy_loss: 0.006829606369137764 MSE: 0.00024609314277768135 Accuracy: 1.0\n",
      "Epoch: 31\n",
      "loss: Crossentropy_loss: 0.021677637472748756 MSE: 0.003976871725171804 Accuracy: 1.0\n",
      "Epoch: 32\n",
      "loss: Crossentropy_loss: 0.0038869893178343773 MSE: 8.055655780481175e-05 Accuracy: 1.0\n",
      "Epoch: 33\n",
      "loss: Crossentropy_loss: 0.02634008787572384 MSE: 0.007019334472715855 Accuracy: 1.0\n",
      "Epoch: 34\n",
      "loss: Crossentropy_loss: 0.0061151194386184216 MSE: 0.0002666079963091761 Accuracy: 1.0\n",
      "Epoch: 35\n",
      "loss: Crossentropy_loss: 0.012159916572272778 MSE: 0.0010339425643905997 Accuracy: 1.0\n",
      "Epoch: 36\n",
      "loss: Crossentropy_loss: 0.007099922280758619 MSE: 0.00035852237488143146 Accuracy: 1.0\n",
      "Epoch: 37\n",
      "loss: Crossentropy_loss: 0.01024717092514038 MSE: 0.0009216712787747383 Accuracy: 1.0\n",
      "Epoch: 38\n",
      "loss: Crossentropy_loss: 0.015240163542330265 MSE: 0.0012032452505081892 Accuracy: 1.0\n",
      "Epoch: 39\n",
      "loss: Crossentropy_loss: 0.0086347796022892 MSE: 0.001039706519804895 Accuracy: 1.0\n",
      "Epoch: 40\n",
      "loss: Crossentropy_loss: 0.014070602133870125 MSE: 0.002425640821456909 Accuracy: 1.0\n",
      "Epoch: 41\n",
      "loss: Crossentropy_loss: 0.010186392813920975 MSE: 0.0005865871789865196 Accuracy: 1.0\n",
      "Epoch: 42\n",
      "loss: Crossentropy_loss: 0.009347526356577873 MSE: 0.00039216980803757906 Accuracy: 1.0\n",
      "Epoch: 43\n",
      "loss: Crossentropy_loss: 0.009235437959432602 MSE: 0.00041748935473151505 Accuracy: 1.0\n",
      "Epoch: 44\n",
      "loss: Crossentropy_loss: 0.0029352002311497927 MSE: 4.9774615035858005e-05 Accuracy: 1.0\n",
      "Epoch: 45\n",
      "loss: Crossentropy_loss: 0.005760273430496454 MSE: 0.00016585500270593911 Accuracy: 1.0\n",
      "Epoch: 46\n",
      "loss: Crossentropy_loss: 0.006023972295224667 MSE: 0.0002577387494966388 Accuracy: 1.0\n",
      "Epoch: 47\n",
      "loss: Crossentropy_loss: 0.008235128596425056 MSE: 0.0005312183639034629 Accuracy: 1.0\n",
      "Epoch: 48\n",
      "loss: Crossentropy_loss: 0.01361408643424511 MSE: 0.0007704810705035925 Accuracy: 1.0\n",
      "Epoch: 49\n",
      "loss: Crossentropy_loss: 0.004683915060013533 MSE: 0.00020703408517874777 Accuracy: 1.0\n",
      "Epoch: 50\n",
      "loss: Crossentropy_loss: 0.0049545420333743095 MSE: 0.0001936183252837509 Accuracy: 1.0\n",
      "Epoch: 51\n",
      "loss: Crossentropy_loss: 0.003892038017511368 MSE: 6.0978847614023834e-05 Accuracy: 1.0\n",
      "Epoch: 52\n",
      "loss: Crossentropy_loss: 0.015348274260759354 MSE: 0.0012389578623697162 Accuracy: 1.0\n",
      "Epoch: 53\n",
      "loss: Crossentropy_loss: 0.011819020844995975 MSE: 0.0007546563865616918 Accuracy: 1.0\n",
      "Epoch: 54\n",
      "loss: Crossentropy_loss: 0.014450772665441036 MSE: 0.0020916853100061417 Accuracy: 1.0\n",
      "Epoch: 55\n",
      "loss: Crossentropy_loss: 0.0038872738368809223 MSE: 8.353941666428e-05 Accuracy: 1.0\n",
      "Epoch: 56\n",
      "loss: Crossentropy_loss: 0.007231064140796661 MSE: 0.00023563548165839165 Accuracy: 1.0\n",
      "Epoch: 57\n",
      "loss: Crossentropy_loss: 0.00816187635064125 MSE: 0.0003588019171729684 Accuracy: 1.0\n",
      "Epoch: 58\n",
      "loss: Crossentropy_loss: 0.009921322576701641 MSE: 0.000629895890597254 Accuracy: 1.0\n",
      "Epoch: 59\n",
      "loss: Crossentropy_loss: 0.006452540401369333 MSE: 0.000273995945462957 Accuracy: 1.0\n",
      "Epoch: 60\n",
      "loss: Crossentropy_loss: 0.010649018920958042 MSE: 0.0015833298675715923 Accuracy: 1.0\n",
      "Epoch: 61\n",
      "loss: Crossentropy_loss: 0.003852540161460638 MSE: 5.980969581287354e-05 Accuracy: 1.0\n",
      "Epoch: 62\n",
      "loss: Crossentropy_loss: 0.005936809349805117 MSE: 0.00016787374624982476 Accuracy: 1.0\n",
      "Epoch: 63\n",
      "loss: Crossentropy_loss: 0.008161868900060654 MSE: 0.0003890339285135269 Accuracy: 1.0\n",
      "Epoch: 64\n",
      "loss: Crossentropy_loss: 0.011983580887317657 MSE: 0.0004515198525041342 Accuracy: 1.0\n",
      "Epoch: 65\n",
      "loss: Crossentropy_loss: 0.00249696196988225 MSE: 2.605527151899878e-05 Accuracy: 1.0\n",
      "Epoch: 66\n",
      "loss: Crossentropy_loss: 0.005543713457882404 MSE: 0.00018406182061880827 Accuracy: 1.0\n",
      "Epoch: 67\n",
      "loss: Crossentropy_loss: 0.00326880207285285 MSE: 5.5139429605333135e-05 Accuracy: 1.0\n",
      "Epoch: 68\n",
      "loss: Crossentropy_loss: 0.004198045469820499 MSE: 7.356512651313096e-05 Accuracy: 1.0\n",
      "Epoch: 69\n",
      "loss: Crossentropy_loss: 0.005948588252067566 MSE: 0.000207971635973081 Accuracy: 1.0\n",
      "Epoch: 70\n",
      "loss: Crossentropy_loss: 0.006239351816475391 MSE: 0.0002493759384378791 Accuracy: 1.0\n",
      "Epoch: 71\n",
      "loss: Crossentropy_loss: 0.004722247831523418 MSE: 7.65501827117987e-05 Accuracy: 1.0\n",
      "Epoch: 72\n",
      "loss: Crossentropy_loss: 0.008022640831768513 MSE: 0.00033087522024288774 Accuracy: 1.0\n",
      "Epoch: 73\n",
      "loss: Crossentropy_loss: 0.007974857464432716 MSE: 0.00036434089997783303 Accuracy: 1.0\n",
      "Epoch: 74\n",
      "loss: Crossentropy_loss: 0.007537527941167355 MSE: 0.0004772345128003508 Accuracy: 1.0\n",
      "Epoch: 75\n",
      "loss: Crossentropy_loss: 0.0032310558017343283 MSE: 6.204072997206822e-05 Accuracy: 1.0\n",
      "Epoch: 76\n",
      "loss: Crossentropy_loss: 0.01179642602801323 MSE: 0.0011270400136709213 Accuracy: 1.0\n",
      "Epoch: 77\n",
      "loss: Crossentropy_loss: 0.015277943573892117 MSE: 0.0020469443406909704 Accuracy: 1.0\n",
      "Epoch: 78\n",
      "loss: Crossentropy_loss: 0.005941418930888176 MSE: 0.0002901621046476066 Accuracy: 1.0\n",
      "Epoch: 79\n",
      "loss: Crossentropy_loss: 0.007937999442219734 MSE: 0.0005723080248571932 Accuracy: 1.0\n",
      "Epoch: 80\n",
      "loss: Crossentropy_loss: 0.01140342652797699 MSE: 0.0013713052030652761 Accuracy: 1.0\n",
      "Epoch: 81\n",
      "loss: Crossentropy_loss: 0.0029559647664427757 MSE: 4.290337165002711e-05 Accuracy: 1.0\n",
      "Epoch: 82\n",
      "loss: Crossentropy_loss: 0.00612238422036171 MSE: 0.0002159731084248051 Accuracy: 1.0\n",
      "Epoch: 83\n",
      "loss: Crossentropy_loss: 0.004008251242339611 MSE: 0.00014248158549889922 Accuracy: 1.0\n",
      "Epoch: 84\n",
      "loss: Crossentropy_loss: 0.006176309660077095 MSE: 0.00016961571236606687 Accuracy: 1.0\n",
      "Epoch: 85\n",
      "loss: Crossentropy_loss: 0.014335373416543007 MSE: 0.001973989885300398 Accuracy: 1.0\n",
      "Epoch: 86\n",
      "loss: Crossentropy_loss: 0.003737565129995346 MSE: 8.922049164539203e-05 Accuracy: 1.0\n",
      "Epoch: 87\n",
      "loss: Crossentropy_loss: 0.0031996257603168488 MSE: 5.3746436606161296e-05 Accuracy: 1.0\n",
      "Epoch: 88\n",
      "loss: Crossentropy_loss: 0.008309513330459595 MSE: 0.0005587401101365685 Accuracy: 1.0\n",
      "Epoch: 89\n",
      "loss: Crossentropy_loss: 0.0015110860113054514 MSE: 1.1691690815496258e-05 Accuracy: 1.0\n",
      "Epoch: 90\n",
      "loss: Crossentropy_loss: 0.010301068425178528 MSE: 0.0008070173789747059 Accuracy: 1.0\n",
      "Epoch: 91\n",
      "loss: Crossentropy_loss: 0.0034595010802149773 MSE: 7.473728328477591e-05 Accuracy: 1.0\n",
      "Epoch: 92\n",
      "loss: Crossentropy_loss: 0.003083351068198681 MSE: 4.361468381830491e-05 Accuracy: 1.0\n",
      "Epoch: 93\n",
      "loss: Crossentropy_loss: 0.0045152269303798676 MSE: 0.0002464554854668677 Accuracy: 1.0\n",
      "Epoch: 94\n",
      "loss: Crossentropy_loss: 0.0018289308063685894 MSE: 1.537766365800053e-05 Accuracy: 1.0\n",
      "Epoch: 95\n",
      "loss: Crossentropy_loss: 0.0029451537411659956 MSE: 4.763541437569074e-05 Accuracy: 1.0\n",
      "Epoch: 96\n",
      "loss: Crossentropy_loss: 0.006296050734817982 MSE: 0.00032138664391823113 Accuracy: 1.0\n",
      "Epoch: 97\n",
      "loss: Crossentropy_loss: 0.003821943886578083 MSE: 4.444171645445749e-05 Accuracy: 1.0\n",
      "Epoch: 98\n",
      "loss: Crossentropy_loss: 0.0027021828573197126 MSE: 2.2113739760243334e-05 Accuracy: 1.0\n",
      "Epoch: 99\n",
      "loss: Crossentropy_loss: 0.004372313152998686 MSE: 0.00013928150292485952 Accuracy: 1.0\n",
      "Epoch: 100\n",
      "loss: Crossentropy_loss: 0.0022430922836065292 MSE: 2.0529256289592013e-05 Accuracy: 1.0\n",
      "Epoch: 101\n",
      "loss: Crossentropy_loss: 0.0025124589446932077 MSE: 3.341932097100653e-05 Accuracy: 1.0\n",
      "Epoch: 102\n",
      "loss: Crossentropy_loss: 0.005941442213952541 MSE: 0.00020612243679352105 Accuracy: 1.0\n",
      "Epoch: 103\n",
      "loss: Crossentropy_loss: 0.00421723909676075 MSE: 0.00011865419946843758 Accuracy: 1.0\n",
      "Epoch: 104\n",
      "loss: Crossentropy_loss: 0.0023238114081323147 MSE: 3.051964085898362e-05 Accuracy: 1.0\n",
      "Epoch: 105\n",
      "loss: Crossentropy_loss: 0.007103146985173225 MSE: 0.00036157722934149206 Accuracy: 1.0\n",
      "Epoch: 106\n",
      "loss: Crossentropy_loss: 0.0023399011697620153 MSE: 4.578859079629183e-05 Accuracy: 1.0\n",
      "Epoch: 107\n",
      "loss: Crossentropy_loss: 0.004066405352205038 MSE: 0.0001867769897216931 Accuracy: 1.0\n",
      "Epoch: 108\n",
      "loss: Crossentropy_loss: 0.003146449103951454 MSE: 4.4398504542186856e-05 Accuracy: 1.0\n",
      "Epoch: 109\n",
      "loss: Crossentropy_loss: 0.004307406954467297 MSE: 0.00010488344560144469 Accuracy: 1.0\n",
      "Epoch: 110\n",
      "loss: Crossentropy_loss: 0.0061506531201303005 MSE: 0.0007175923674367368 Accuracy: 1.0\n",
      "Epoch: 111\n",
      "loss: Crossentropy_loss: 0.003693620441481471 MSE: 0.00013971125008538365 Accuracy: 1.0\n",
      "Epoch: 112\n",
      "loss: Crossentropy_loss: 0.012790997512638569 MSE: 0.0016242944402620196 Accuracy: 1.0\n"
     ]
    },
    {
     "ename": "KeyboardInterrupt",
     "evalue": "ignored",
     "output_type": "error",
     "traceback": [
      "\u001b[0;31m---------------------------------------------------------------------------\u001b[0m",
      "\u001b[0;31mKeyboardInterrupt\u001b[0m                         Traceback (most recent call last)",
      "\u001b[0;32m<ipython-input-201-aef7c657f56c>\u001b[0m in \u001b[0;36m<module>\u001b[0;34m()\u001b[0m\n\u001b[1;32m      4\u001b[0m \u001b[0mbatchgen\u001b[0m\u001b[0;34m=\u001b[0m\u001b[0mbatch_gen\u001b[0m\u001b[0;34m(\u001b[0m\u001b[0mbatch_size\u001b[0m\u001b[0;34m,\u001b[0m\u001b[0morig_imgs\u001b[0m\u001b[0;34m,\u001b[0m\u001b[0mlabels_path\u001b[0m\u001b[0;34m)\u001b[0m\u001b[0;34m\u001b[0m\u001b[0;34m\u001b[0m\u001b[0m\n\u001b[1;32m      5\u001b[0m \u001b[0;32mfor\u001b[0m \u001b[0me\u001b[0m \u001b[0;32min\u001b[0m \u001b[0mrange\u001b[0m\u001b[0;34m(\u001b[0m\u001b[0;36m1\u001b[0m\u001b[0;34m,\u001b[0m\u001b[0mepochs\u001b[0m\u001b[0;34m+\u001b[0m\u001b[0;36m1\u001b[0m\u001b[0;34m)\u001b[0m\u001b[0;34m:\u001b[0m\u001b[0;34m\u001b[0m\u001b[0;34m\u001b[0m\u001b[0m\n\u001b[0;32m----> 6\u001b[0;31m   \u001b[0mo_img\u001b[0m\u001b[0;34m,\u001b[0m\u001b[0my\u001b[0m\u001b[0;34m=\u001b[0m\u001b[0mnext\u001b[0m\u001b[0;34m(\u001b[0m\u001b[0mbatchgen\u001b[0m\u001b[0;34m)\u001b[0m\u001b[0;34m\u001b[0m\u001b[0;34m\u001b[0m\u001b[0m\n\u001b[0m\u001b[1;32m      7\u001b[0m   \u001b[0mloss\u001b[0m\u001b[0;34m=\u001b[0m\u001b[0mmodel\u001b[0m\u001b[0;34m.\u001b[0m\u001b[0mtrain_on_batch\u001b[0m\u001b[0;34m(\u001b[0m\u001b[0;34m[\u001b[0m\u001b[0mo_img\u001b[0m\u001b[0;34m]\u001b[0m\u001b[0;34m,\u001b[0m\u001b[0my\u001b[0m\u001b[0;34m)\u001b[0m\u001b[0;34m\u001b[0m\u001b[0;34m\u001b[0m\u001b[0m\n\u001b[1;32m      8\u001b[0m   \u001b[0maccuracy_l\u001b[0m\u001b[0;34m.\u001b[0m\u001b[0mappend\u001b[0m\u001b[0;34m(\u001b[0m\u001b[0mloss\u001b[0m\u001b[0;34m[\u001b[0m\u001b[0;36m2\u001b[0m\u001b[0;34m]\u001b[0m\u001b[0;34m)\u001b[0m\u001b[0;34m\u001b[0m\u001b[0;34m\u001b[0m\u001b[0m\n",
      "\u001b[0;32m<ipython-input-190-1650028761db>\u001b[0m in \u001b[0;36mbatch_gen\u001b[0;34m(batch_size, input_path, label_csv)\u001b[0m\n\u001b[1;32m     14\u001b[0m         \u001b[0morg_images\u001b[0m\u001b[0;34m=\u001b[0m\u001b[0;34m[\u001b[0m\u001b[0;34m]\u001b[0m\u001b[0;34m\u001b[0m\u001b[0;34m\u001b[0m\u001b[0m\n\u001b[1;32m     15\u001b[0m         \u001b[0;32mfor\u001b[0m \u001b[0mimg\u001b[0m \u001b[0;32min\u001b[0m \u001b[0mimg_batches\u001b[0m\u001b[0;34m:\u001b[0m\u001b[0;34m\u001b[0m\u001b[0;34m\u001b[0m\u001b[0m\n\u001b[0;32m---> 16\u001b[0;31m           \u001b[0mimage\u001b[0m\u001b[0;34m=\u001b[0m\u001b[0mcv2\u001b[0m\u001b[0;34m.\u001b[0m\u001b[0mimread\u001b[0m\u001b[0;34m(\u001b[0m\u001b[0minput_path\u001b[0m\u001b[0;34m+\u001b[0m\u001b[0mimg\u001b[0m\u001b[0;34m)\u001b[0m\u001b[0;34m\u001b[0m\u001b[0;34m\u001b[0m\u001b[0m\n\u001b[0m\u001b[1;32m     17\u001b[0m           \u001b[0mimage\u001b[0m\u001b[0;34m=\u001b[0m\u001b[0mcv2\u001b[0m\u001b[0;34m.\u001b[0m\u001b[0mresize\u001b[0m\u001b[0;34m(\u001b[0m\u001b[0mimage\u001b[0m\u001b[0;34m,\u001b[0m\u001b[0;34m(\u001b[0m\u001b[0;36m220\u001b[0m\u001b[0;34m,\u001b[0m\u001b[0;36m160\u001b[0m\u001b[0;34m)\u001b[0m\u001b[0;34m,\u001b[0m\u001b[0minterpolation\u001b[0m\u001b[0;34m=\u001b[0m\u001b[0mcv2\u001b[0m\u001b[0;34m.\u001b[0m\u001b[0mINTER_AREA\u001b[0m\u001b[0;34m)\u001b[0m\u001b[0;34m\u001b[0m\u001b[0;34m\u001b[0m\u001b[0m\n\u001b[1;32m     18\u001b[0m           \u001b[0morg_images\u001b[0m\u001b[0;34m.\u001b[0m\u001b[0mappend\u001b[0m\u001b[0;34m(\u001b[0m\u001b[0mimage\u001b[0m\u001b[0;34m)\u001b[0m\u001b[0;34m\u001b[0m\u001b[0;34m\u001b[0m\u001b[0m\n",
      "\u001b[0;31mKeyboardInterrupt\u001b[0m: "
     ]
    }
   ],
   "source": [
    "#Pętla trenująca sieć\n",
    "batch_size=32\n",
    "epochs=400\n",
    "accuracy_l,loss_l,epoch_l=[],[],[]\n",
    "batchgen=batch_gen(batch_size,orig_imgs,labels_path)\n",
    "for e in range(1,epochs+1):\n",
    "    o_img,m_img,y=next(batchgen)\n",
    "    loss=model.train_on_batch([o_img,m_img],y)\n",
    "    accuracy_l.append(loss[2])\n",
    "    loss_l.append(loss[0])\n",
    "    epoch_l.append(e)\n",
    "\n",
    "    print('Epoch:',e)\n",
    "    print('loss:','Crossentropy_loss:',loss[0],'MSE:',loss[1],'Accuracy:',loss[2])"
   ]
  },
  {
   "cell_type": "code",
   "execution_count": null,
   "metadata": {
    "colab": {
     "base_uri": "https://localhost:8080/",
     "height": 296
    },
    "id": "qr-_0WcnaqHU",
    "outputId": "3a4f5b44-ad95-48d4-9aa7-c255321d5ff0"
   },
   "outputs": [
    {
     "data": {
      "text/plain": [
       "Text(0, 0.5, 'Loss')"
      ]
     },
     "execution_count": 192,
     "metadata": {},
     "output_type": "execute_result"
    },
    {
     "data": {
      "image/png": "[encoded data removed]",
      "text/plain": [
       "<Figure size 432x288 with 1 Axes>"
      ]
     },
     "metadata": {
      "needs_background": "light"
     },
     "output_type": "display_data"
    }
   ],
   "source": [
    "plt.plot(epoch_l,loss_l)\n",
    "plt.xlabel('Epochs')\n",
    "plt.ylabel('Loss')"
   ]
  },
  {
   "cell_type": "code",
   "execution_count": null,
   "metadata": {
    "colab": {
     "base_uri": "https://localhost:8080/",
     "height": 279
    },
    "id": "0fSyhA4_bFMo",
    "outputId": "f0f47fd2-698e-429f-ab53-860038c001af"
   },
   "outputs": [
    {
     "data": {
      "image/png": "[encoded data removed]",
      "text/plain": [
       "<Figure size 432x288 with 1 Axes>"
      ]
     },
     "metadata": {
      "needs_background": "light"
     },
     "output_type": "display_data"
    }
   ],
   "source": [
    "plt.plot(epoch_l,accuracy_l)\n",
    "plt.xlabel('Epochs')\n",
    "plt.ylabel('Acccuracy')\n",
    "plt.show()"
   ]
  },
  {
   "cell_type": "code",
   "execution_count": null,
   "metadata": {
    "id": "yTnUMwbiYID4"
   },
   "outputs": [],
   "source": [
    "model.save('C:/Users/komej/dataset2/drive_model13.h5')"
   ]
  },
  {
   "cell_type": "code",
   "execution_count": null,
   "metadata": {
    "id": "US-5KEE5YIGx"
   },
   "outputs": [],
   "source": [
    "test_path='/content/gdrive/My Drive/test1.jpg'\n",
    "mask_path='/content/gdrive/My Drive/test1_mask.jpg'\n",
    "img=cv2.imread(test_path)\n",
    "img=cv2.resize(img,(220,160),interpolation=cv2.INTER_CUBIC)\n",
    "mask=cv2.imread(mask_path)\n",
    "img=np.array(img,dtype=np.float32)/255\n",
    "mask=np.array(mask,dtype=np.float32)/255\n",
    "mask=np.expand_dims(mask,axis=0)\n",
    "img=np.expand_dims(img,axis=0)\n",
    "print(img.shape)\n",
    "plt.imshow(img[0])"
   ]
  },
  {
   "cell_type": "code",
   "execution_count": null,
   "metadata": {
    "colab": {
     "base_uri": "https://localhost:8080/"
    },
    "id": "uROHYV7oYcp1",
    "outputId": "978245bb-df98-4171-bc00-ddde9d28adca"
   },
   "outputs": [
    {
     "name": "stdout",
     "output_type": "stream",
     "text": [
      "[[0.99989057]]\n"
     ]
    }
   ],
   "source": [
    "score=model.predict(img)\n",
    "print(score)"
   ]
  },
  {
   "cell_type": "code",
   "execution_count": null,
   "metadata": {
    "id": "k-Q7oZ-Ngs-5"
   },
   "outputs": [],
   "source": []
  },
  {
   "cell_type": "code",
   "execution_count": null,
   "metadata": {
    "id": "WE7bd47q-OnQ"
   },
   "outputs": [],
   "source": []
  },
  {
   "cell_type": "code",
   "execution_count": null,
   "metadata": {
    "id": "hffqnqvm-OpM"
   },
   "outputs": [],
   "source": []
  }
 ],
 "metadata": {
  "accelerator": "GPU",
  "colab": {
   "collapsed_sections": [],
   "name": "robot AI 2",
   "provenance": []
  },
  "kernelspec": {
   "display_name": "Python 3",
   "language": "python",
   "name": "python3"
  },
  "language_info": {
   "codemirror_mode": {
    "name": "ipython",
    "version": 3
   },
   "file_extension": ".py",
   "mimetype": "text/x-python",
   "name": "python",
   "nbconvert_exporter": "python",
   "pygments_lexer": "ipython3",
   "version": "3.8.10"
  }
 },
 "nbformat": 4,
 "nbformat_minor": 1
}
